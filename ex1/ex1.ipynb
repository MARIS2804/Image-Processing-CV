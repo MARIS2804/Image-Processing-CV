{
 "cells": [
  {
   "cell_type": "code",
   "execution_count": 8,
   "id": "c3e54615-33a8-4a43-90d8-3d4b1736724d",
   "metadata": {},
   "outputs": [
    {
     "data": {
      "text/plain": [
       "<matplotlib.image.AxesImage at 0x20b04c99ff0>"
      ]
     },
     "execution_count": 8,
     "metadata": {},
     "output_type": "execute_result"
    },
    {
     "data": {
      "image/png": "[encoded data removed]",
      "text/plain": [
       "<Figure size 640x480 with 1 Axes>"
      ]
     },
     "metadata": {},
     "output_type": "display_data"
    }
   ],
   "source": [
    "import numpy as np\n",
    "import matplotlib.pyplot as plt\n",
    "\n",
    "matrix = np.random.randint(2, size=(8,8))\n",
    "plt.imshow(matrix,cmap=\"binary\")"
   ]
  },
  {
   "cell_type": "code",
   "execution_count": 12,
   "id": "5d932a3f-58d9-4363-8780-3327e6a9302b",
   "metadata": {},
   "outputs": [
    {
     "data": {
      "text/plain": [
       "<matplotlib.image.AxesImage at 0x20b04d777c0>"
      ]
     },
     "execution_count": 12,
     "metadata": {},
     "output_type": "execute_result"
    },
    {
     "data": {
      "image/png": "[encoded data removed]",
      "text/plain": [
       "<Figure size 640x480 with 1 Axes>"
      ]
     },
     "metadata": {},
     "output_type": "display_data"
    }
   ],
   "source": [
    "import numpy as np\n",
    "import matplotlib.pyplot as plt\n",
    "\n",
    "matrix = np.random.randint(256, size=(8,8))\n",
    "plt.imshow(matrix,cmap=\"gray\")"
   ]
  },
  {
   "cell_type": "code",
   "execution_count": 6,
   "id": "8397118c-4fda-4967-aac2-9b915431c378",
   "metadata": {
    "scrolled": true
   },
   "outputs": [
    {
     "data": {
      "text/plain": [
       "array([[ 58,  70,   0],\n",
       "       [ 58,  69,   0],\n",
       "       [ 58,  68,   0],\n",
       "       [ 60,  67,   0],\n",
       "       [ 63,  64,   0],\n",
       "       [ 64,  64,   0],\n",
       "       [ 66,  63,   2],\n",
       "       [ 68,  63,   2],\n",
       "       [ 69,  61,   1],\n",
       "       [ 69,  61,   1],\n",
       "       [ 68,  60,   1],\n",
       "       [ 70,  59,   2],\n",
       "       [ 70,  57,   1],\n",
       "       [ 69,  55,   2],\n",
       "       [ 70,  54,   1],\n",
       "       [ 70,  53,   2],\n",
       "       [ 76,  51,   1],\n",
       "       [ 75,  50,   0],\n",
       "       [ 77,  49,   2],\n",
       "       [ 78,  48,   1],\n",
       "       [ 80,  45,   1],\n",
       "       [ 81,  43,   1],\n",
       "       [ 83,  43,   1],\n",
       "       [ 85,  43,   1],\n",
       "       [ 89,  40,   2],\n",
       "       [ 89,  40,   2],\n",
       "       [ 90,  38,   1],\n",
       "       [ 91,  37,   2],\n",
       "       [ 94,  35,   3],\n",
       "       [ 95,  34,   2],\n",
       "       [ 96,  32,   2],\n",
       "       [ 97,  31,   2],\n",
       "       [ 98,  30,   1],\n",
       "       [ 97,  28,   1],\n",
       "       [ 99,  28,   1],\n",
       "       [100,  26,   2],\n",
       "       [102,  23,   2],\n",
       "       [103,  22,   1],\n",
       "       [105,  21,   3],\n",
       "       [104,  20,   2],\n",
       "       [107,  16,   1],\n",
       "       [109,  15,   2],\n",
       "       [110,  14,   1],\n",
       "       [112,  11,   2],\n",
       "       [115,   9,   2],\n",
       "       [118,   8,   2],\n",
       "       [121,   6,   3],\n",
       "       [121,   6,   3],\n",
       "       [124,   3,   1],\n",
       "       [126,   3,   1],\n",
       "       [128,   2,   1],\n",
       "       [129,   2,   1],\n",
       "       [131,   1,   1],\n",
       "       [133,   1,   1],\n",
       "       [135,   1,   1],\n",
       "       [136,   0,   1],\n",
       "       [136,   0,   1],\n",
       "       [136,   0,   1],\n",
       "       [138,   0,   1],\n",
       "       [140,   0,   1],\n",
       "       [145,   0,   2],\n",
       "       [146,   0,   2],\n",
       "       [149,   0,   3],\n",
       "       [149,   0,   3],\n",
       "       [153,   3,   3],\n",
       "       [155,   2,   3],\n",
       "       [156,   2,   3],\n",
       "       [158,   2,   3],\n",
       "       [160,   1,   3],\n",
       "       [162,   1,   3],\n",
       "       [164,   1,   3],\n",
       "       [165,   0,   3],\n",
       "       [169,   1,   0],\n",
       "       [169,   1,   0],\n",
       "       [171,   1,   0],\n",
       "       [174,   0,   0],\n",
       "       [176,   0,   0],\n",
       "       [178,   0,   0],\n",
       "       [179,   0,   0],\n",
       "       [181,   0,   0],\n",
       "       [182,   0,   0],\n",
       "       [184,   0,   0],\n",
       "       [187,   1,   1],\n",
       "       [189,   0,   1],\n",
       "       [190,   0,   1],\n",
       "       [195,   0,   2],\n",
       "       [197,   0,   2],\n",
       "       [197,   0,   2],\n",
       "       [199,   0,   0],\n",
       "       [201,   0,   0],\n",
       "       [204,   0,   1],\n",
       "       [206,   0,   1],\n",
       "       [208,   0,   2],\n",
       "       [210,   0,   2],\n",
       "       [212,   0,   2],\n",
       "       [214,   0,   2],\n",
       "       [216,   0,   1],\n",
       "       [216,   0,   1],\n",
       "       [218,   0,   0],\n",
       "       [222,   0,   0],\n",
       "       [224,   1,   0],\n",
       "       [226,   1,   0],\n",
       "       [229,   2,   0],\n",
       "       [231,   2,   0],\n",
       "       [236,   1,   0],\n",
       "       [236,   1,   0],\n",
       "       [238,   0,   0],\n",
       "       [242,   1,   0],\n",
       "       [244,   0,   0],\n",
       "       [246,   0,   0],\n",
       "       [249,   1,   1],\n",
       "       [251,   0,   1],\n",
       "       [252,   1,   0],\n",
       "       [252,   1,   0],\n",
       "       [252,   1,   0],\n",
       "       [252,   1,   0],\n",
       "       [252,   1,   0],\n",
       "       [252,   1,   0],\n",
       "       [252,   1,   0],\n",
       "       [252,   1,   0],\n",
       "       [255,   1,   1],\n",
       "       [255,   1,   1],\n",
       "       [255,   1,   1],\n",
       "       [255,   1,   1],\n",
       "       [255,   1,   1],\n",
       "       [255,   1,   1],\n",
       "       [255,   1,   1],\n",
       "       [255,   1,   1],\n",
       "       [255,   1,   1],\n",
       "       [255,   1,   1],\n",
       "       [255,   1,   1],\n",
       "       [255,   1,   1],\n",
       "       [255,   1,   1],\n",
       "       [255,   1,   1],\n",
       "       [255,   1,   1],\n",
       "       [255,   1,   1],\n",
       "       [254,   0,   0],\n",
       "       [254,   0,   0],\n",
       "       [254,   0,   0],\n",
       "       [254,   0,   0],\n",
       "       [254,   0,   0],\n",
       "       [254,   0,   0],\n",
       "       [254,   0,   0],\n",
       "       [254,   0,   0],\n",
       "       [254,   0,   1],\n",
       "       [254,   0,   1],\n",
       "       [254,   0,   1],\n",
       "       [254,   0,   1],\n",
       "       [254,   0,   1],\n",
       "       [254,   0,   1],\n",
       "       [254,   0,   1],\n",
       "       [254,   0,   1],\n",
       "       [254,   0,   1],\n",
       "       [254,   0,   1],\n",
       "       [254,   0,   1],\n",
       "       [254,   0,   1],\n",
       "       [254,   0,   1],\n",
       "       [254,   0,   1],\n",
       "       [254,   0,   1],\n",
       "       [254,   0,   1],\n",
       "       [252,   0,   1],\n",
       "       [252,   0,   1],\n",
       "       [252,   0,   1],\n",
       "       [252,   0,   1],\n",
       "       [252,   0,   1],\n",
       "       [252,   0,   1],\n",
       "       [252,   0,   1],\n",
       "       [252,   0,   1],\n",
       "       [252,   0,   1],\n",
       "       [252,   0,   1],\n",
       "       [252,   0,   1],\n",
       "       [252,   0,   1],\n",
       "       [252,   0,   1],\n",
       "       [252,   0,   1],\n",
       "       [252,   0,   1],\n",
       "       [252,   0,   1],\n",
       "       [252,   0,   1],\n",
       "       [252,   0,   1],\n",
       "       [251,   0,   1],\n",
       "       [251,   0,   1],\n",
       "       [249,   1,   1],\n",
       "       [247,   1,   1],\n",
       "       [247,   1,   1],\n",
       "       [247,   1,   1],\n",
       "       [236,   1,   0],\n",
       "       [234,   1,   0],\n",
       "       [234,   1,   0],\n",
       "       [233,   1,   0],\n",
       "       [233,   1,   0],\n",
       "       [231,   2,   0],\n",
       "       [229,   2,   0],\n",
       "       [229,   2,   0],\n",
       "       [224,   1,   3],\n",
       "       [224,   1,   3],\n",
       "       [223,   0,   2],\n",
       "       [221,   0,   2],\n",
       "       [218,   0,   1],\n",
       "       [218,   0,   1],\n",
       "       [216,   0,   1],\n",
       "       [216,   0,   1],\n",
       "       [215,   0,   3],\n",
       "       [215,   0,   3],\n",
       "       [215,   0,   3],\n",
       "       [213,   0,   3],\n",
       "       [211,   0,   3],\n",
       "       [211,   0,   3],\n",
       "       [209,   1,   3],\n",
       "       [209,   1,   3],\n",
       "       [206,   1,   3],\n",
       "       [206,   1,   3],\n",
       "       [206,   1,   3],\n",
       "       [203,   1,   2],\n",
       "       [201,   1,   2],\n",
       "       [200,   0,   1],\n",
       "       [198,   0,   1],\n",
       "       [198,   0,   1],\n",
       "       [194,   0,   1],\n",
       "       [194,   0,   1],\n",
       "       [194,   0,   1],\n",
       "       [192,   0,   1],\n",
       "       [190,   0,   1],\n",
       "       [190,   0,   1],\n",
       "       [189,   0,   1],\n",
       "       [189,   0,   1],\n",
       "       [184,   0,   0],\n",
       "       [184,   0,   0]], dtype=uint8)"
      ]
     },
     "execution_count": 6,
     "metadata": {},
     "output_type": "execute_result"
    }
   ],
   "source": [
    "import cv2\n",
    "\n",
    "rgb_img=cv2.imread(\"rgb.jpg\")\n",
    "rgb_img[2]"
   ]
  },
  {
   "cell_type": "code",
   "execution_count": 4,
   "id": "1d0871c3-14ba-46a9-9935-6cfd6ba67cf3",
   "metadata": {
    "scrolled": true
   },
   "outputs": [
    {
     "data": {
      "text/plain": [
       "array([[113, 114, 114, ..., 165, 165, 165],\n",
       "       [114, 114, 114, ..., 165, 165, 165],\n",
       "       [114, 114, 114, ..., 166, 166, 166],\n",
       "       ...,\n",
       "       [ 65,  65,  66, ..., 190, 190, 190],\n",
       "       [ 64,  64,  65, ..., 202, 202, 202],\n",
       "       [ 63,  63,  64, ..., 212, 212, 212]], dtype=uint8)"
      ]
     },
     "execution_count": 4,
     "metadata": {},
     "output_type": "execute_result"
    }
   ],
   "source": [
    "import cv2\n",
    "\n",
    "rgb_img=cv2.imread(\"gray.jpg\",cv2.IMREAD_GRAYSCALE)\n",
    "rgb_img"
   ]
  },
  {
   "cell_type": "code",
   "execution_count": 9,
   "id": "c9366fc6-88f2-447b-931d-e929084be00b",
   "metadata": {},
   "outputs": [
    {
     "data": {
      "text/plain": [
       "array([[1, 1, 1, ..., 1, 1, 1],\n",
       "       [1, 1, 1, ..., 1, 1, 1],\n",
       "       [1, 1, 1, ..., 1, 1, 1],\n",
       "       ...,\n",
       "       [1, 1, 1, ..., 1, 1, 1],\n",
       "       [1, 1, 1, ..., 1, 1, 1],\n",
       "       [1, 1, 1, ..., 1, 1, 1]], dtype=uint8)"
      ]
     },
     "execution_count": 9,
     "metadata": {},
     "output_type": "execute_result"
    }
   ],
   "source": [
    "import cv2\n",
    "\n",
    "bin_img=cv2.imread(\"binary.png\",cv2.IMREAD_GRAYSCALE)\n",
    "_,binary=cv2.threshold(bin_img,0,1, cv2.THRESH_BINARY)\n",
    "binary"
   ]
  },
  {
   "cell_type": "code",
   "execution_count": 1,
   "id": "01410cfe-1d85-44d4-801d-74d35a5d8271",
   "metadata": {},
   "outputs": [],
   "source": [
    "#4. separate the channel of rgb image and display\n",
    "import cv2\n",
    "import numpy as np\n",
    "\n",
    "img = cv2.imread(\"rgb.jpg\")  \n",
    "b, g, r = cv2.split(img)\n",
    "zeros = np.zeros_like(b)\n",
    "red_img   = cv2.merge([zeros, zeros, r])\n",
    "green_img = cv2.merge([zeros, g, zeros])\n",
    "blue_img  = cv2.merge([b, zeros, zeros])\n",
    "\n",
    "cv2.imshow('Red channel (color)', red_img)\n",
    "cv2.imshow('Green channel (color)', green_img)\n",
    "cv2.imshow('Blue channel (color)', blue_img)\n",
    "cv2.waitKey(0)\n",
    "cv2.destroyAllWindows()"
   ]
  },
  {
   "cell_type": "code",
   "execution_count": 2,
   "id": "7f007d8f-8f0b-4ef9-a64a-20a7edb77352",
   "metadata": {},
   "outputs": [
    {
     "name": "stdout",
     "output_type": "stream",
     "text": [
      "[[ 60  59  61 ... 190 186 186]\n",
      " [ 58  60  62 ... 190 186 186]\n",
      " [ 58  58  58 ... 189 184 184]\n",
      " ...\n",
      " [  0   0   0 ...   2   2   2]\n",
      " [  0   0   0 ...   2   2   2]\n",
      " [  0   0   0 ...   2   2   2]]\n"
     ]
    }
   ],
   "source": []
  },
  {
   "cell_type": "code",
   "execution_count": 4,
   "id": "177cccbb-e086-476d-b569-0bfcf83668db",
   "metadata": {},
   "outputs": [
    {
     "data": {
      "text/plain": [
       "(148, 226, 3)"
      ]
     },
     "execution_count": 4,
     "metadata": {},
     "output_type": "execute_result"
    }
   ],
   "source": [
    "#5.display the image dimension\n",
    "import cv2\n",
    "import numpy as np\n",
    "\n",
    "img = cv2.imread(\"rgb.jpg\")\n",
    "img.shape"
   ]
  },
  {
   "cell_type": "code",
   "execution_count": 2,
   "id": "99bacf1e-0ac1-4f2a-a2a3-6379d4113f10",
   "metadata": {},
   "outputs": [
    {
     "name": "stdout",
     "output_type": "stream",
     "text": [
      "(148, 226, 3)\n"
     ]
    }
   ],
   "source": [
    "#6. crop , resize the image of a specific dimension\n",
    "import cv2\n",
    "\n",
    "img = cv2.imread('rgb.jpg')\n",
    "print(img.shape)\n",
    "x, y, w, h = 50, 50, 200, 200  \n",
    "cropped_img = img[y:y+h, x:x+w]\n",
    "cv2.imshow('Cropped', cropped_img)\n",
    "cv2.waitKey(0)\n",
    "cv2.destroyAllWindows()"
   ]
  },
  {
   "cell_type": "code",
   "execution_count": 1,
   "id": "ca9f7ef6-6978-4fc0-bf1e-2e10516969a4",
   "metadata": {},
   "outputs": [],
   "source": [
    "import cv2\n",
    "\n",
    "img = cv2.imread('rgb.jpg')\n",
    "width_new, height_new = 100, 100 \n",
    "resized_img = cv2.resize(img, (width_new, height_new))\n",
    "\n",
    "cv2.imshow('Resized', resized_img)\n",
    "cv2.waitKey(0)\n",
    "cv2.destroyAllWindows()"
   ]
  },
  {
   "cell_type": "code",
   "execution_count": 5,
   "id": "9fb827c4-1750-46d0-92e2-4e16db780dcc",
   "metadata": {},
   "outputs": [],
   "source": [
    "#7. perform image rotate and image flipping\n",
    "import cv2\n",
    "\n",
    "image = cv2.imread('gray.jpg')\n",
    "\n",
    "rotated = cv2.rotate(image, cv2.ROTATE_90_CLOCKWISE)\n",
    "\n",
    "flipped_h = cv2.flip(image, 1)\n",
    "\n",
    "flipped_v = cv2.flip(image, 0)\n",
    "\n",
    "cv2.imshow('rotated.jpg', rotated)\n",
    "cv2.imshow('flipped_horizontal.jpg', flipped_h)\n",
    "cv2.imshow('flipped_vertical.jpg', flipped_v)\n",
    "cv2.waitKey(0)\n",
    "cv2.destroyAllWindows()"
   ]
  },
  {
   "cell_type": "code",
   "execution_count": null,
   "id": "24977b28-9d27-4657-b145-1576eeaede42",
   "metadata": {},
   "outputs": [],
   "source": []
  }
 ],
 "metadata": {
  "kernelspec": {
   "display_name": "Python 3 (ipykernel)",
   "language": "python",
   "name": "python3"
  },
  "language_info": {
   "codemirror_mode": {
    "name": "ipython",
    "version": 3
   },
   "file_extension": ".py",
   "mimetype": "text/x-python",
   "name": "python",
   "nbconvert_exporter": "python",
   "pygments_lexer": "ipython3",
   "version": "3.10.0"
  }
 },
 "nbformat": 4,
 "nbformat_minor": 5
}
